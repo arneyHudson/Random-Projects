{
 "cells": [
  {
   "cell_type": "markdown",
   "metadata": {},
   "source": [
    "# Transfer Courses Webscraping"
   ]
  },
  {
   "cell_type": "code",
   "execution_count": 1,
   "metadata": {},
   "outputs": [],
   "source": [
    "from selenium import webdriver\n",
    "from selenium.webdriver.common.by import By\n",
    "from selenium.webdriver.support.ui import WebDriverWait\n",
    "from selenium.webdriver.support import expected_conditions as EC\n",
    "import pandas as pd\n",
    "from tqdm import tqdm"
   ]
  },
  {
   "cell_type": "code",
   "execution_count": 2,
   "metadata": {},
   "outputs": [],
   "source": [
    "df = pd.DataFrame(columns=[\"Transfer College Name\", \"Transfer College Course\", \"MSOE Course Equivalent\"])"
   ]
  },
  {
   "cell_type": "code",
   "execution_count": 3,
   "metadata": {},
   "outputs": [],
   "source": [
    "def close_progress_bar(progress_bar):\n",
    "    progress_bar.close()"
   ]
  },
  {
   "cell_type": "markdown",
   "metadata": {},
   "source": [
    "_________________________________________"
   ]
  },
  {
   "cell_type": "code",
   "execution_count": 4,
   "metadata": {},
   "outputs": [
    {
     "name": "stderr",
     "output_type": "stream",
     "text": [
      "Progress:   2%|▏         | 1/50 [00:04<03:39,  4.48s/college]"
     ]
    }
   ],
   "source": [
    "driver = webdriver.Chrome()\n",
    "try:\n",
    "    # URL of the website\n",
    "    base_url = \"https://tes.collegesource.com/\"\n",
    "    url = base_url + \"publicview/TES_publicview01.aspx?rid=d1554a69-83c6-41cc-9dff-3fbffe353f06&aid=96909b9e-7de7-494b-9d7e-a7a9f73f9941\"\n",
    "\n",
    "    # Open the webpage\n",
    "    driver.get(url)\n",
    "\n",
    "    # Initialize an empty list to store course information\n",
    "    data = []\n",
    "    clicked_colleges = set()\n",
    "    count = 0\n",
    "\n",
    "    # Initialize tqdm progress bar outside the loop\n",
    "    progress_bar = tqdm(desc=\"Progress\", unit=\"college\")\n",
    "\n",
    "    while True:\n",
    "        # Wait for college links to appear\n",
    "        WebDriverWait(driver, 0.5).until(EC.presence_of_element_located((By.XPATH, \"//table[@id='gdvInstWithEQ']//a[contains(@id, 'gdvInstWithEQ_btnCreditFromInstName')]\")))\n",
    "\n",
    "        # Find all college links on the current page\n",
    "        college_links = driver.find_elements(By.XPATH, \"//table[@id='gdvInstWithEQ']//a[contains(@id, 'gdvInstWithEQ_btnCreditFromInstName')]\")\n",
    "        total_colleges = len(college_links)\n",
    "        locations = driver.find_elements(By.XPATH, \"//table[@id='gdvInstWithEQ']//td[2]\")\n",
    "        \n",
    "        if not college_links:\n",
    "            break\n",
    "\n",
    "        # Update total steps for tqdm progress bar\n",
    "        progress_bar.total = total_colleges\n",
    "\n",
    "        # Iterate over each college link\n",
    "        for i in range(len(college_links)):\n",
    "            try:\n",
    "                college_link = college_links[i]\n",
    "                college_name = college_link.text.strip()\n",
    "                location = locations[i+1].text.strip()\n",
    "                college_tuple = (college_name, location)\n",
    "                if college_tuple not in clicked_colleges:\n",
    "                    college_link.click()\n",
    "                    clicked_colleges.add(college_tuple)\n",
    "                    #print(f\"Clicked on {college_name}, Location: {location}\")\n",
    "\n",
    "                    # Wait for course rows to appear\n",
    "                    WebDriverWait(driver, 2).until(EC.presence_of_element_located((By.XPATH, \"//*[@id='gdvCourseEQ_btnViewCourseEQDetail_0']\")))\n",
    "\n",
    "                    # Find all course rows\n",
    "                    course_rows = driver.find_elements(By.XPATH, \"//table[@id='gdvCourseEQ']//tr\")\n",
    "\n",
    "                    # Extract course information\n",
    "                    for row in course_rows[1:]:  # Exclude header row\n",
    "                        cols = row.find_elements(By.TAG_NAME, \"td\")\n",
    "                        if len(cols) >= 2:\n",
    "                            course_name = cols[0].text.strip()\n",
    "                            msoe_equivalent = cols[1].text.strip()\n",
    "                            if any(code in msoe_equivalent for code in [\"CSC 3511\", \"SWE 4511\", \"SWE 4540\", \"CYB 2001\", \"MTH 2680\", \"MTH 3340\", \"MTH 3410\", \"MTH 4130\", \"MTH 4150\", \"ACS 3410\", \"MTH 2610\"]):   \n",
    "                                data.append({\"Transfer College Name\": college_name,\n",
    "                                            \"Transfer College Course\": course_name,\n",
    "                                            \"MSOE Course Equivalent\": msoe_equivalent})\n",
    "            except Exception as e:\n",
    "                break\n",
    "\n",
    "            # Update tqdm progress bar\n",
    "            progress_bar.update(1)\n",
    "\n",
    "        # Refresh the page to avoid stale elements\n",
    "        driver.refresh()\n",
    "        WebDriverWait(driver, 10).until(EC.presence_of_element_located((By.XPATH, \"//table[@id='gdvInstWithEQ']//a[contains(@id, 'gdvInstWithEQ_btnCreditFromInstName')]\")))\n",
    "        count += 1\n",
    "        if count == 50:\n",
    "            break\n",
    "\n",
    "finally:\n",
    "    # Close the WebDriver\n",
    "    driver.quit()\n"
   ]
  },
  {
   "cell_type": "code",
   "execution_count": null,
   "metadata": {},
   "outputs": [],
   "source": []
  },
  {
   "cell_type": "code",
   "execution_count": null,
   "metadata": {},
   "outputs": [],
   "source": [
    "df = pd.DataFrame(data)\n",
    "df.head()"
   ]
  },
  {
   "cell_type": "code",
   "execution_count": null,
   "metadata": {},
   "outputs": [],
   "source": [
    "from selenium import webdriver\n",
    "from selenium.webdriver.common.by import By\n",
    "from selenium.webdriver.support.ui import WebDriverWait\n",
    "from selenium.webdriver.support import expected_conditions as EC\n",
    "from tqdm import tqdm\n",
    "import pandas as pd\n",
    "\n",
    "class WebsiteScraper:\n",
    "    def __init__(self):\n",
    "        self.driver = None\n",
    "\n",
    "    def scrape_website(self):\n",
    "        try:\n",
    "            self.open_website()\n",
    "            self.process_all_pages()\n",
    "        finally:\n",
    "            self.close_driver()\n",
    "\n",
    "    def open_website(self):\n",
    "        self.driver = webdriver.Chrome()\n",
    "        base_url = \"https://tes.collegesource.com/\"\n",
    "        url = base_url + \"publicview/TES_publicview01.aspx?rid=d1554a69-83c6-41cc-9dff-3fbffe353f06&aid=96909b9e-7de7-494b-9d7e-a7a9f73f9941\"\n",
    "        self.driver.get(url)\n",
    "\n",
    "    def process_all_pages(self):\n",
    "        total_pages = 33  # Assuming there are 33 pages\n",
    "        for page_num in range(total_pages):\n",
    "            self.process_current_page()\n",
    "            if page_num < total_pages - 1:\n",
    "                self.go_to_next_page()\n",
    "\n",
    "    def process_current_page(self):\n",
    "        while True:\n",
    "            WebDriverWait(self.driver, 0.5).until(EC.presence_of_element_located((By.XPATH, \"//table[@id='gdvInstWithEQ']//a[contains(@id, 'gdvInstWithEQ_btnCreditFromInstName')]\")))\n",
    "            college_links = self.driver.find_elements(By.XPATH, \"//table[@id='gdvInstWithEQ']//a[contains(@id, 'gdvInstWithEQ_btnCreditFromInstName')]\")\n",
    "            if not college_links:\n",
    "                break\n",
    "            self.process_colleges_on_current_page(college_links)\n",
    "\n",
    "    def process_colleges_on_current_page(self, college_links):\n",
    "        progress_bar = tqdm(desc=\"Progress\", unit=\"college\", total=len(college_links))\n",
    "        for college_link in college_links:\n",
    "            college_link.click()\n",
    "            self.process_courses_on_college_page()\n",
    "            progress_bar.update(1)\n",
    "        progress_bar.close()\n",
    "\n",
    "    def process_courses_on_college_page(self):\n",
    "        WebDriverWait(self.driver, 0.5).until(EC.presence_of_element_located((By.XPATH, \"//*[@id='gdvCourseEQ_btnViewCourseEQDetail_0']\")))\n",
    "        course_rows = self.driver.find_elements(By.XPATH, \"//table[@id='gdvCourseEQ']//tr\")[1:]\n",
    "        for row in course_rows:\n",
    "            cols = row.find_elements(By.TAG_NAME, \"td\")\n",
    "            if len(cols) >= 2:\n",
    "                course_name = cols[0].text.strip()\n",
    "                msoe_equivalent = cols[1].text.strip()\n",
    "                if any(code in msoe_equivalent for code in [\"CSC 3511\", \"SWE 4511\", \"SWE 4540\", \"CYB 2001\", \"MTH 2680\", \"MTH 3340\", \"MTH 3410\", \"MTH 4130\", \"MTH 4150\", \"ACS 3410\", \"MTH 2610\"]):   \n",
    "                    self.save_course_data(course_name, msoe_equivalent)\n",
    "\n",
    "    def save_course_data(self, course_name, msoe_equivalent):\n",
    "        data.append({\"Transfer College Name\": self.college_name,\n",
    "                     \"Transfer College Course\": course_name,\n",
    "                     \"MSOE Course Equivalent\": msoe_equivalent})\n",
    "\n",
    "    def go_to_next_page(self):\n",
    "        next_page_link = self.driver.find_element(By.XPATH, \"//a[contains(@href, 'Page$') and contains(text(), 'Next')]\")\n",
    "        if next_page_link:\n",
    "            next_page_link.click()\n",
    "            WebDriverWait(self.driver, 0.5).until(EC.staleness_of_element_located((By.XPATH, \"//table[@id='gdvInstWithEQ']\")))\n",
    "        else:\n",
    "            raise ValueError(\"Next page link not found\")\n",
    "\n",
    "    def close_driver(self):\n",
    "        if self.driver:\n",
    "            self.driver.quit()\n",
    "\n",
    "if __name__ == \"__main__\":\n",
    "    data = []\n",
    "    scraper = WebsiteScraper()\n",
    "    scraper.scrape_website()\n",
    "    df = pd.DataFrame(data)\n",
    "    df.head()\n"
   ]
  },
  {
   "cell_type": "code",
   "execution_count": null,
   "metadata": {},
   "outputs": [
    {
     "name": "stdout",
     "output_type": "stream",
     "text": [
      "Scraping: https://tes.collegesource.com/publicview/TES_publicview01.aspx?rid=d1554a69-83c6-41cc-9dff-3fbffe353f06&aid=96909b9e-7de7-494b-9d7e-a7a9f73f9941\n",
      "Failed to scrape https://tes.collegesource.com/publicview/TES_publicview01.aspx?rid=d1554a69-83c6-41cc-9dff-3fbffe353f06&aid=96909b9e-7de7-494b-9d7e-a7a9f73f9941. Status code: 403\n"
     ]
    }
   ],
   "source": [
    "import requests\n",
    "from bs4 import BeautifulSoup\n",
    "import csv\n",
    "\n",
    "# Function to scrape text from a webpage\n",
    "def scrape_page(url):\n",
    "    response = requests.get(url)\n",
    "    if response.status_code == 200:\n",
    "        soup = BeautifulSoup(response.content, 'html.parser')\n",
    "        # Extract text from the webpage\n",
    "        text = soup.get_text(separator='\\n', strip=True)\n",
    "        return text\n",
    "    else:\n",
    "        print(f\"Failed to scrape {url}. Status code: {response.status_code}\")\n",
    "        return None\n",
    "\n",
    "# Main function to scrape the main page\n",
    "def main():\n",
    "    main_url = \"https://tes.collegesource.com/publicview/TES_publicview01.aspx?rid=d1554a69-83c6-41cc-9dff-3fbffe353f06&aid=96909b9e-7de7-494b-9d7e-a7a9f73f9941\"\n",
    "\n",
    "    with open(\"scraped_data.csv\", \"w\", newline='', encoding=\"utf-8\") as csvfile:\n",
    "        csv_writer = csv.writer(csvfile)\n",
    "        csv_writer.writerow([\"URL\", \"Text\"])  # Header row\n",
    "\n",
    "        # Scrape main page\n",
    "        print(f\"Scraping: {main_url}\")\n",
    "        main_text = scrape_page(main_url)\n",
    "        if main_text:\n",
    "            csv_writer.writerow([main_url, main_text])\n",
    "\n",
    "if __name__ == \"__main__\":\n",
    "    main()\n"
   ]
  },
  {
   "cell_type": "code",
   "execution_count": null,
   "metadata": {},
   "outputs": [],
   "source": []
  }
 ],
 "metadata": {
  "kernelspec": {
   "display_name": "Python 3",
   "language": "python",
   "name": "python3"
  },
  "language_info": {
   "codemirror_mode": {
    "name": "ipython",
    "version": 3
   },
   "file_extension": ".py",
   "mimetype": "text/x-python",
   "name": "python",
   "nbconvert_exporter": "python",
   "pygments_lexer": "ipython3",
   "version": "3.11.9"
  }
 },
 "nbformat": 4,
 "nbformat_minor": 2
}
